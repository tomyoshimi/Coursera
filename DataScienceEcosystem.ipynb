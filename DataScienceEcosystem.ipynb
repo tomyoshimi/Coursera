{
 "cells": [
  {
   "cell_type": "markdown",
   "id": "454b0c54-b457-4486-95b6-87defec728f5",
   "metadata": {},
   "source": [
    "# Data Science Tools and Ecosystem"
   ]
  },
  {
   "cell_type": "markdown",
   "id": "d5d25e52-ec08-465e-9bb8-dc8292573971",
   "metadata": {},
   "source": [
    "In this notebook, Data Science Tools and Ecosystem are summarized."
   ]
  },
  {
   "cell_type": "markdown",
   "id": "39a96655-72b5-4475-9428-95fa016c3b21",
   "metadata": {},
   "source": [
    "Some of the popular languages that Data Scientists use are:\n",
    "1. Python\n",
    "2. R\n",
    "3. SQL"
   ]
  },
  {
   "cell_type": "markdown",
   "id": "07199638-46dc-4bac-9287-f950ceb40b16",
   "metadata": {},
   "source": [
    "Some of the commonly used libraries used by Data Scientists inclulde:\n",
    "1. Pandas\n",
    "2. Scipy\n",
    "3. Karas"
   ]
  },
  {
   "cell_type": "markdown",
   "id": "b738e03a-2098-4743-858c-a179e2f82b16",
   "metadata": {},
   "source": [
    "## Data Science Tools\n",
    "Jupyter Notebook\n",
    "R\n",
    "Python"
   ]
  },
  {
   "cell_type": "markdown",
   "id": "f446f440-8f2e-4a66-b880-222a32406504",
   "metadata": {},
   "source": [
    "### Below are a few example of evaluating arithmetic expresssions in Python"
   ]
  },
  {
   "cell_type": "code",
   "execution_count": 1,
   "id": "15c696b4-abfb-4ca3-84d5-8c8d739c7d50",
   "metadata": {},
   "outputs": [
    {
     "data": {
      "text/plain": [
       "17"
      ]
     },
     "execution_count": 1,
     "metadata": {},
     "output_type": "execute_result"
    }
   ],
   "source": [
    "# This is simpl arithmetic expression to multiply then add integers\n",
    "(3*4)+5"
   ]
  },
  {
   "cell_type": "code",
   "execution_count": 2,
   "id": "92776f6e-03d1-44ff-b1b5-b99018648ae2",
   "metadata": {},
   "outputs": [
    {
     "data": {
      "text/plain": [
       "3.3333333333333335"
      ]
     },
     "execution_count": 2,
     "metadata": {},
     "output_type": "execute_result"
    }
   ],
   "source": [
    "# This will convert 2000 minutes to hours by dividing by 60\n",
    "200/60"
   ]
  },
  {
   "cell_type": "markdown",
   "id": "9fedaae9-557a-4196-b5cd-d3e96cbc2e17",
   "metadata": {},
   "source": [
    "**Objectives:**\n",
    "* List popular languages for Data Science\n",
    "* List comonly used libraries for Data Science\n",
    "* List Tools\n",
    "* Arithmetric expression"
   ]
  },
  {
   "cell_type": "markdown",
   "id": "d7dd6093-a251-4572-8115-bd9d32347219",
   "metadata": {},
   "source": [
    "## Author ##\n",
    "Tomohiro Yoshimi"
   ]
  }
 ],
 "metadata": {
  "kernelspec": {
   "display_name": "Python 3 (ipykernel)",
   "language": "python",
   "name": "python3"
  },
  "language_info": {
   "codemirror_mode": {
    "name": "ipython",
    "version": 3
   },
   "file_extension": ".py",
   "mimetype": "text/x-python",
   "name": "python",
   "nbconvert_exporter": "python",
   "pygments_lexer": "ipython3",
   "version": "3.7.13"
  }
 },
 "nbformat": 4,
 "nbformat_minor": 5
}
